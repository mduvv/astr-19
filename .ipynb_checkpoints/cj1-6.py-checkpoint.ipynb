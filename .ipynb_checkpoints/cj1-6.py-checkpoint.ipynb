{
 "cells": [
  {
   "cell_type": "markdown",
   "id": "67a50261",
   "metadata": {},
   "source": [
    "Create a Jupyter Notebook where, in separate cells, you define functions that return sin(x) and cos(x).  Use Markdown cells to comment your Notebook, and describe what each function does. Create a third Python cell that will tabulate sin(x) and cos(x) using these previously defined functions vs. x, where x is tabulated between 0 and 2 with a thousand entries. Write a fourth Python cell that will use a for loop to print out the first 10 values of x, sin(x), and cos(x) in columns."
   ]
  },
  {
   "cell_type": "code",
   "execution_count": null,
   "id": "05c6edfe",
   "metadata": {},
   "outputs": [],
   "source": [
    "import numpy as np"
   ]
  },
  {
   "cell_type": "code",
   "execution_count": null,
   "id": "a949d67f",
   "metadata": {},
   "outputs": [],
   "source": [
    "def sine(x):\n",
    "    return np.sin(x)"
   ]
  },
  {
   "cell_type": "markdown",
   "id": "43e26950",
   "metadata": {},
   "source": [
    "Function to return sine(x)"
   ]
  },
  {
   "cell_type": "code",
   "execution_count": null,
   "id": "937a3a83",
   "metadata": {},
   "outputs": [],
   "source": [
    "def cosine(x):\n",
    "    return np.cos(x)"
   ]
  },
  {
   "cell_type": "markdown",
   "id": "f8ab63d2",
   "metadata": {},
   "source": [
    "Function to return cosine(x)"
   ]
  },
  {
   "cell_type": "code",
   "execution_count": null,
   "id": "92b755c1",
   "metadata": {},
   "outputs": [],
   "source": [
    "print(\"sin(x) vs cosine(x) vs x\")\n",
    "print(\"-\"*50)\n",
    "z = np.linspace(0.0, 2.0*np.pi, num=1000, dtype=float) # array from 0.0 to 2.0 with a 1000 entries\n",
    "for item in z:\n",
    "        print(f\"{sine(item):>} {cosine(item):>} {item:>}\") # left align"
   ]
  },
  {
   "cell_type": "code",
   "execution_count": null,
   "id": "e206d7e0",
   "metadata": {},
   "outputs": [],
   "source": [
    "for i in range(10):\n",
    "    print(f\"{z[i]:>} {sine(z[i]):>} {cosine(z[i]):>}\")"
   ]
  }
 ],
 "metadata": {
  "kernelspec": {
   "display_name": "Python 3 (ipykernel)",
   "language": "python",
   "name": "python3"
  },
  "language_info": {
   "codemirror_mode": {
    "name": "ipython",
    "version": 3
   },
   "file_extension": ".py",
   "mimetype": "text/x-python",
   "name": "python",
   "nbconvert_exporter": "python",
   "pygments_lexer": "ipython3",
   "version": "3.10.4"
  }
 },
 "nbformat": 4,
 "nbformat_minor": 5
}
