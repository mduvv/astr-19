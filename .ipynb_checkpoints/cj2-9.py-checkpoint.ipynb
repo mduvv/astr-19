{
 "cells": [
  {
   "cell_type": "markdown",
   "id": "0c0e8a1c",
   "metadata": {},
   "source": [
    "Session 9 Prompt: Create a Jupyter notebook, import matplotlib. Use numpy to pull 1000 random numbers distributed uniformly between [0,1]. Histogram the random numbers into 100 bins, and plot the histogram. Label your axes and save the figure as a PDF."
   ]
  },
  {
   "cell_type": "code",
   "execution_count": 1,
   "id": "8a833936",
   "metadata": {},
   "outputs": [],
   "source": [
    "%matplotlib inline\n",
    "import numpy as np\n",
    "import matplotlib.pyplot as plt"
   ]
  },
  {
   "cell_type": "code",
   "execution_count": 14,
   "id": "26e266e1",
   "metadata": {},
   "outputs": [
    {
     "data": {
      "image/png": "[encoded data removed]",
      "text/plain": [
       "<Figure size 432x288 with 1 Axes>"
      ]
     },
     "metadata": {
      "needs_background": "light"
     },
     "output_type": "display_data"
    }
   ],
   "source": [
    "n = 1000\n",
    "x = np.random.uniform(low=0, high=1, size=n)\n",
    "\n",
    "width = 0.01\n",
    "histmin = np.floor(min(x))\n",
    "histmax = np.ceil(max(x))+width\n",
    "\n",
    "bins = np.arange(histmin,histmax,width)\n",
    "plt.hist(x,bins=bins, alpha=0.5, color=\"green\")\n",
    "plt.ylabel(\"N per bin\")\n",
    "plt.xlabel(\"x\")\n",
    "plt.savefig(\"cj2-9_histo.pdf\",bbox_inches=\"tight\",facecolor=\"white\")"
   ]
  },
  {
   "cell_type": "code",
   "execution_count": null,
   "id": "eb8f1d6f",
   "metadata": {},
   "outputs": [],
   "source": []
  }
 ],
 "metadata": {
  "kernelspec": {
   "display_name": "Python 3 (ipykernel)",
   "language": "python",
   "name": "python3"
  },
  "language_info": {
   "codemirror_mode": {
    "name": "ipython",
    "version": 3
   },
   "file_extension": ".py",
   "mimetype": "text/x-python",
   "name": "python",
   "nbconvert_exporter": "python",
   "pygments_lexer": "ipython3",
   "version": "3.10.4"
  }
 },
 "nbformat": 4,
 "nbformat_minor": 5
}
