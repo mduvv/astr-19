{
 "cells": [
  {
   "cell_type": "markdown",
   "id": "7a032424",
   "metadata": {},
   "source": [
    "Create a Jupyter notebook, import matplotlib.\n",
    "Write cells that create an array x ranging from [0,1] in 100 steps and that defines a function that returns exp(x).\n",
    "In a new cell use the function to set y=exp(x), and then plot x vs. y.\n",
    "Label the x-axis as “Time [milliseconds]” and the y-axis as “Awesomeness”.\n",
    "Save the figure as a PDF."
   ]
  },
  {
   "cell_type": "code",
   "execution_count": null,
   "id": "9623b314",
   "metadata": {},
   "outputs": [],
   "source": [
    "%matplotlib inline\n",
    "import numpy as np\n",
    "import matplotlib.pyplot as plt"
   ]
  },
  {
   "cell_type": "code",
   "execution_count": null,
   "id": "8d6a282a",
   "metadata": {},
   "outputs": [],
   "source": [
    "x = np.linspace(0, 1, 100)\n",
    "# print(x)"
   ]
  },
  {
   "cell_type": "code",
   "execution_count": null,
   "id": "a831342e",
   "metadata": {},
   "outputs": [],
   "source": [
    "def exp(num):\n",
    "    return np.exp(num)"
   ]
  },
  {
   "cell_type": "code",
   "execution_count": null,
   "id": "e90715ba",
   "metadata": {},
   "outputs": [],
   "source": [
    "y = exp(x)\n",
    "# print(y)\n",
    "plt.plot(x,y)\n",
    "plt.xlabel(\"Time[milliseconds]\")\n",
    "plt.ylabel(\"Aewsomeness\")\n",
    "plt.savefig(\"cj2-7: Time vs Awesomeness.pdf\", bbox_inches = \"tight\", dpi = 600, facecolor = \"white\")"
   ]
  }
 ],
 "metadata": {
  "kernelspec": {
   "display_name": "Python 3 (ipykernel)",
   "language": "python",
   "name": "python3"
  },
  "language_info": {
   "codemirror_mode": {
    "name": "ipython",
    "version": 3
   },
   "file_extension": ".py",
   "mimetype": "text/x-python",
   "name": "python",
   "nbconvert_exporter": "python",
   "pygments_lexer": "ipython3",
   "version": "3.10.4"
  }
 },
 "nbformat": 4,
 "nbformat_minor": 5
}
